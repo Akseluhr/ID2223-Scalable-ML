{
 "cells": [
  {
   "cell_type": "code",
   "execution_count": 54,
   "id": "8bb7c286",
   "metadata": {},
   "outputs": [],
   "source": [
    "import requests\n",
    "import os\n",
    "import json\n",
    "import pandas as pd\n",
    "import csv\n",
    "import datetime\n",
    "import dateutil.parser\n",
    "import unicodedata\n",
    "import time\n",
    "import configparser"
   ]
  },
  {
   "cell_type": "code",
   "execution_count": 82,
   "id": "c9120128",
   "metadata": {},
   "outputs": [
    {
     "data": {
      "text/plain": [
       "['config.ini']"
      ]
     },
     "execution_count": 82,
     "metadata": {},
     "output_type": "execute_result"
    }
   ],
   "source": [
    "# Read the config file\n",
    "config = configparser.ConfigParser()\n",
    "config.read('config.ini')"
   ]
  },
  {
   "cell_type": "code",
   "execution_count": 56,
   "id": "350cc2f7",
   "metadata": {},
   "outputs": [],
   "source": [
    "def auth():\n",
    "    returnurn config['twitter']['bearer_token']"
   ]
  },
  {
   "cell_type": "code",
   "execution_count": 57,
   "id": "458dd841",
   "metadata": {},
   "outputs": [],
   "source": [
    "def create_headers(bearer_token):\n",
    "    headers = {\"Authorization\": \"Bearer {}\".format(bearer_token)}\n",
    "    return headers"
   ]
  },
  {
   "cell_type": "code",
   "execution_count": 58,
   "id": "525e26eb",
   "metadata": {},
   "outputs": [],
   "source": [
    "def create_url(keyword, start_date, end_date, max_results = 100):\n",
    "    \n",
    "    search_url = \"https://api.twitter.com/2/tweets/search/recent\"\n",
    "\n",
    "    #change params based on the endpoint you are using\n",
    "    query_params = {'query': keyword,\n",
    "                    'start_time': start_date,\n",
    "                    'end_time': end_date,\n",
    "                    'max_results': max_results,\n",
    "                    'tweet.fields': 'text',\n",
    "                    'next_token': {}}\n",
    "    return (search_url, query_params)"
   ]
  },
  {
   "cell_type": "code",
   "execution_count": 59,
   "id": "5e8d8b24",
   "metadata": {},
   "outputs": [],
   "source": [
    "def connect_to_endpoint(url, headers, params, next_token = None):\n",
    "    params['next_token'] = next_token \n",
    "    response = requests.request(\"GET\", url, headers = headers, params = params)\n",
    "    print(\"Endpoint Response Code: \" + str(response.status_code))\n",
    "    if response.status_code != 200:\n",
    "        raise Exception(response.status_code, response.text)\n",
    "    return response.json()"
   ]
  },
  {
   "cell_type": "code",
   "execution_count": 69,
   "id": "6a0a6162",
   "metadata": {},
   "outputs": [],
   "source": [
    "#Inputs for the request\n",
    "bearer_token = auth()\n",
    "headers = create_headers(bearer_token)\n",
    "keyword = \"bitcoin lang:en\"\n",
    "start_time = \"2023-01-17T00:00:00.000Z\"\n",
    "end_time = \"2023-01-18T00:00:00.000Z\"\n",
    "max_results = 100"
   ]
  },
  {
   "cell_type": "code",
   "execution_count": 70,
   "id": "a8d769b4",
   "metadata": {},
   "outputs": [
    {
     "name": "stdout",
     "output_type": "stream",
     "text": [
      "Endpoint Response Code: 200\n"
     ]
    }
   ],
   "source": [
    "url = create_url(keyword, start_time,end_time, max_results)\n",
    "json_response = connect_to_endpoint(url[0], headers, url[1])"
   ]
  },
  {
   "cell_type": "code",
   "execution_count": 71,
   "id": "36032f9b",
   "metadata": {},
   "outputs": [
    {
     "data": {
      "text/plain": [
       "'RT @HKD_exchange: #BTC Retakes $20K, Leading as Broad Crypto Rally Continues\\n\\n🚀 Now at $20,900, #bitcoin has gained more than 20% in the op…'"
      ]
     },
     "execution_count": 71,
     "metadata": {},
     "output_type": "execute_result"
    }
   ],
   "source": [
    "# print(json.dumps(json_response, indent=4, sort_keys=True))\n",
    "\n",
    "json_response['data'][0]['text']"
   ]
  },
  {
   "cell_type": "code",
   "execution_count": 75,
   "id": "6af902ee",
   "metadata": {},
   "outputs": [
    {
     "data": {
      "text/plain": [
       "0     RT @HKD_exchange: #BTC Retakes $20K, Leading a...\n",
       "1     @hxn @AP Sure, make us crash faster. https://t...\n",
       "2     RT @adaswapapp: Hey AdaSwap! We are opening a ...\n",
       "3     RT @Diditaihuttu: This is very important as sc...\n",
       "4     @MonstersCoins Bear markets provide the greate...\n",
       "                            ...                        \n",
       "95    RT @saylor: Join us Wednesday, January 18 at 5...\n",
       "96    RT @Cointelegraph: Looking to get involved wit...\n",
       "97    RT @BTC_Archive: #Bitcoin 2-week MACD just cro...\n",
       "98    This is what most people do when they know the...\n",
       "99    @nypost Those who believe in investing in Bitc...\n",
       "Name: text, Length: 100, dtype: object"
      ]
     },
     "execution_count": 75,
     "metadata": {},
     "output_type": "execute_result"
    }
   ],
   "source": [
    "df = pd.DataFrame(json_response['data'])\n",
    "df['text']"
   ]
  },
  {
   "cell_type": "code",
   "execution_count": 78,
   "id": "f2a76a81",
   "metadata": {},
   "outputs": [
    {
     "data": {
      "text/plain": [
       "'RT @HKD_exchange: #BTC Retakes $20K, Leading as Broad Crypto Rally Continues\\n\\n🚀 Now at $20,900, #bitcoin has gained more than 20% in the op… @hxn @AP Sure, make us crash faster. https://t.co/17VFF01LaH RT @adaswapapp: Hey AdaSwap! We are opening a $2000 prize for anyone who ads LP to our DEX via the Liquidity pools! If you add over $20 USD… RT @Diditaihuttu: This is very important as scammers are using our name daily to scam people in  #bitcoin. Imho we have enough internationa… @MonstersCoins Bear markets provide the greatest accumulating opportunity for those with conviction in #bitcoin, but they are the most dangerous for speculators. \\n\\nIf you aren’t following @JeremyD_Trades you should be. There aren’t many who have a better understanding of value investing @observadorpt Those who believe in investing in Bitcoin also believe in intelligence Sometimes we only have to take risk once it pays off Thank you Ms. Natalie Taylor , I made the profit of $68,000 ...join her official telegram\\n👇\\nhttps://t.co/egkflMSMft RT @RollbitRewards: As promised earlier, here is the extra giveaway!\\n\\n$450 #Giveaway 🎁\\n\\nJust #RT, #Follow, tag 2! 🎉\\n\\nWinner in 3 days! 💸 #R… Bitcoin price index https://t.co/o7UcHJUhC6 #USD #EUR #CNY #GBP #RUB https://t.co/uXvRwSHf33 RT @BitcoinMagazine: JUST IN: Institutional investors are accumulating #Bitcoin again - CoinDesk 🚀 RT @CoinDesk: The number of $BTC owned by wallets of OTC desks has risen since Jan. 11. \\n\\nIt\\'s a sign that institutional investors such as… RT @RollbitRewards: As promised earlier, here is the extra giveaway!\\n\\n$450 #Giveaway 🎁\\n\\nJust #RT, #Follow, tag 2! 🎉\\n\\nWinner in 3 days! 💸 #R… @CNBC @CNBCMakeIt Those who believe in investing in Bitcoin also believe in intelligence Sometimes we only have to take risk once it pays off Thank you Ms. Natalie Taylor , I made the profit of $68,000 ...join her official telegram\\n👇\\nhttps://t.co/egkflMSMft RT @Diditaihuttu: We have been using our new TAP #bitcoin debit card  and it works perfect. Also very happy with the $XTP token price 😊\\n\\nJo… @MADr0591 Let me guess Bitcoin too. RT @Legitcryptonerd: I hope you do realize that $Qnt has broken out this long range &amp; the Ichimuko clouds with increasing volumes.\\n\\n💥🚀 Mega… RT @Mj_Rivaldi: Gm my friends. Now SANSPEPE ready on @PepePawnShop \\nhttps://t.co/9YsNrLEMXb grab it before end.\\n\\n#counterparty #Bitcoin #sa… @sashahodler Buy your #Bitcoin from reliable unregulated sources , that don’t sell you id or ssn to the government for taxing currency that doesn’t belong to them 💥LETS BE HONEST:\\n\\nMicrosoft To Fire Approximately 11,000 Workers Amid Slowing World Economy\\n\\nJust hodl BNBTC, thank me later😉🤑\\n\\n#BNBTC #Bitcoin #BNB #MicroStrategy #Saylor #ETH #LUNC #Celsius #SOL #DOGE #SHIB #SBF_FTX #cryptozoo #affirm #BNPL #MSFT\\nhttps://t.co/ZsxojB5fKr RT @justintrimble: Hal Finney calling the NFT/CryptoArt movement in 1993 . . . #NFTs #Bitcoin #BTC #ETH https://t.co/8kFLccgv2F @thehill Those who believe in investing in Bitcoin also believe in intelligence Sometimes we only have to take risk once it pays off Thank you Ms. Natalie Taylor , I made the profit of $68,000 ...join her official telegram\\n👇\\nhttps://t.co/egkflMSMft RT @ChainSnake: https://t.co/yvMTjSCWvi register on #binance and earn with me #cryptocurrency  #bitcoin #metaverse #defichain #nft #polkado… RT @Cointelegraph: At the end of January 2022, member of the Belgian parliament Christophe De Beukelaer became the first European politicia… #Bitcoin 20 weekly EMA retest has not yet happened. Currently lies at $18 648. Many hands will get shaken out. Diamond hands know what this means. RT @krabs04: 🚨100$ Giveaway!🚨\\n💰Crypto/Paypal/Bank💰\\n\\nHow to enter:\\n✅Retweet+Follow\\n✅Watch the video all the way through + Like hybe\\nhttps://… RT @BoltCasinos: To celebrate the launch of Bolt Casinos - We are giving away $50 - Enter today by visiting https://t.co/KUQGM7jh4Q &gt; Givea… RT @RollbitRewards: As promised earlier, here is the extra giveaway!\\n\\n$450 #Giveaway 🎁\\n\\nJust #RT, #Follow, tag 2! 🎉\\n\\nWinner in 3 days! 💸 #R… @richardh8 @TXMCtrades Reasons: \\nKill bitcoin (if attacker views it as a threat for example). \\nReasonable profits from shorts. \\nKeep in mind an attacker is simply maintaining normal mining businesses up until the attack. RT @BTC_Archive: Bitcoin is coming for you, Silver.  \\n\\n#Bitcoin         vs         Silver\\n🟧🟧🟧⬜️⬜️⬜️⬜️⬜️⬜️⬜️$1.4T\\n$400B… @GBNEWS @TheSimonEvans @LeoKearse @LewisSchaffer Those who believe in investing in Bitcoin also believe in intelligence Sometimes we only have to take risk once it pays off Thank you Ms. Natalie Taylor , I made the profit of $68,000 ...join her official telegram\\n👇\\nhttps://t.co/egkflMSMft RT @saylor: #Bitcoin is your ₿est Friend. https://t.co/mXTxfWbCrT RT @ChainSnake: https://t.co/biLmHNNG5v join #thesandbox and play this #game with us! $sand #bitcoin #metaverse #defichain #nft #polkadot #… RT @Cointelegraph: Bitcoin price flexes its muscles as on-chain data, trading volumes and favorable macroeconomic data lure traders back in… RT @CrptoVIPsignal: If #Bitcoin pumps to $20k by the end of January 2023. I will give $20,000 to 20 Lucky persons who follows me and retwee… RT @saylor: Join us Wednesday, January 18 at 5pm EST for our Q4 2022 briefing on the State of the #Bitcoin Mining Industry. We will share o… RT @Cointelegraph: BTC stays above $20K as the market tries to figure out where to move. https://t.co/RutLeyCqqo https://t.co/RutLeyCqqo RT @MasonVersluis: The only reason I’ve EVER purchased #Bitcoin, was to trade it for $XRP. @GoingParabolic Buying tens of billions of dollars of bitcoin and keep it secret to me it is highly unlikely RT @CryptoShiro_: I gathered some real nice alphas for you last week 🧵\\n\\nYou will find:\\n\\n▪️ Macro Predictions for 2023\\n▪️ An NFT Lending pro… A review of bitcoin mining company holdings in 2022 \\n\\n Glassnode data analyzed by Crypto... #Mining\\nhttps://t.co/Cvs7eiGxYv @beeforbacon1 Nope, but I didn\\'t really see a point in keeping cash in a savings account. I keep what I need to live on in my checking account (plus a few months\\' income just in case) then I invest the rest, or buy bonds or bitcoin as a \"saving adjacent\" account to save for a downpayment. @Vocodah @NEheadbanger69 @Frantik_Musik @elonmusk It’s cause he fell for the bitcoin scam \\U0001fa99 do better bro.. do better RT @RollbitRewards: As promised earlier, here is the extra giveaway!\\n\\n$450 #Giveaway 🎁\\n\\nJust #RT, #Follow, tag 2! 🎉\\n\\nWinner in 3 days! 💸 #R… RT @ericccb403: @CathedraBitcoin $CBIT.V $CBTTF CEO Loading!  Always nice to see management showing the strongest display of confidence ✅✅✅… RT @ChainSnake: https://t.co/9azTezog2E register on #defichain and earn with me #cryptocurrency  #bitcoin #metaverse  #nft #polkadot #solan… RT @AirdropStario: 💧 Litho &amp; Jot Art Airdrop 💧\\n\\n📍 Listed\\n\\n🏆 Task: ➕ $10 worth of JOT for 7500 random participants each\\n\\n👨\\u200d👩\\u200d👧 Referral: ➕ $… RT @StoicTA: $DXY #DXY\\nDollar Index tagged the MID RANGE 💡\\n\\nIf we reverse and break out of the falling wedge, I see #Dollar reaching for $1… @nypost Those who believe in investing in Bitcoin also believe in intelligence Sometimes we only have to take risk once it pays off Thank you Ms. Natalie Taylor , I made the profit of $68,000 ...join her official telegram\\n👇\\nhttps://t.co/egkflMSMft 🔥Read to the end👇👇🔥🔥 \\nAre you looking for a reliable broker. Check this out! To trade volatility indices VIX https://t.co/mblQ7eZf15 \\n👇 1. Click the link☝️, supply your email. Confirm email in your inbox. dm for help #Ethereum #NFTs #Bitcoin #Forex #Binance #btc #deriv (5) @owocki Don\\'t sell your bitcoin to pay rent in the first bear market. @Catholicizm1 After the Davos elites take over the monetary system, bitcoin will be useless , just like cash! RT @BobaBitcoin: Why are you so pretty, so charmingly?\\n\\nLove and delight is what you are.\\n\\nYou greet me every morning and night, you are al… RT @100trillionUSD: To be clear, in my opinion current #bitcoin pump is not a bull trap but the (early) start of the next bull run 🔥🚀 RT @StockmoneyL: #Bitcoin \\n\\nThe beauty of geometry and timing https://t.co/kCjXZQ6Stf RT @Diditaihuttu: WILL BITCOIN PULL BACK SOON?? https://t.co/u0hYzuTgGn via @YouTube #Bitcoin https://t.co/8aSN6LO3NT RT @ChainSnake: https://t.co/QIa7sIH0vY register on #coinbase and get free 10$ #bonus #cryptocurrency  #bitcoin #metaverse #defichain #nft… RT @OlyxAi: Are you ready to discover the future of trading?\\nJoin us now !\\n\\nOfficial links below :\\nhttps://t.co/Dxfy5Uuoul\\n\\n#AI #BSC #Bitco… Plan B Bitcoin - My New Bitcoin Price Prediction For 2023 Will Surprise ... https://t.co/AUD9xkCEI9 via @YouTube @bitcoin_brown @ColinLindo74 Less is less. Bad for humans and bad for the planet. \\n\\nSpace rock or space aliens are the only way everything gets fixed. @nypost Those who believe in investing in Bitcoin also believe in intelligence Sometimes we only have to take risk once it pays off Thank you Ms. Natalie Taylor , I made the profit of $68,000 ...join her official telegram\\n👇\\nhttps://t.co/egkflMTk51 RT @BTC_Archive: BREAKING‼️ Mobile bank N26 to launch #Bitcoin trading for 7 million customers in Europe - Reuters The $BTC price is at $21,134.29 right now.\\n🔴 Compared to the last tweet, the price has dropped by $9.04 (0.04%).\\n🔴 In the last 24 hours the price has dropped by $53.26 (0.25%).\\n\\n#Bitcoin #BTC https://t.co/cKzXyPBtK6 The only reason I’ve EVER purchased #Bitcoin, was to trade it for $XRP. Is there anyone who isn’t going to buy a Pullback right here (if we get one lol)\\n\\nI will be buying\\n\\n#bitcoin https://t.co/FjVSEMsMl5 RT @luke_broyles: My warning and my encouragement:\\n\\nYou have less in common with the person of 2123 than with the person of year 23.\\n\\nBitco… Bitcoin Too? Saudi Arabia To Take Non USD Currencies For\\xa0Oil https://t.co/jdIKa4xjDy So far I see baiting shorts and pulling up. One BIG thing to note is this constant volume on every 30m candle. Are they about to pull the same move again??🤔🤔 #btc #bitcoin #crypto #trading #eth https://t.co/BlSkvgEBU6 Rising Bitcoin Prices Cause Cascade of Short Liquidations, Highest Ratio of Short vs. Long Wipeouts Since July 2021 – Market Updates Bitcoin\\xa0News https://t.co/kcDRgGsQDT RT @Diditaihuttu: This is very important as scammers are using our name daily to scam people in  #bitcoin. Imho we have enough internationa… RT @BitcoinMagazine: @LuganoPlanB WARNING SIGNS 🛑🚧🚫 by @cryptograffiti @NoCBDC\\n\\n⚠️ DO NOT YIELD TO CBDC CONTROL ⚠️\\n\\nChoose Freedom. Choose… #BinanceCoin price update: $BNB\\n\\n#BNB $299.55 USD\\n\\n#Bitcoin 0.01416 BTC\\n\\n#Ethereum 0.19121 ETH\\n\\n#altcoin #crypto #cryptocurrency\\n\\nFollow for recent BNB price updates RT @RobertGenito: Time for the US to unite against it’s own who have foreign interests.\\n\\nStep 1: unite against banks (use #crypto!), their… @girls_bitcoin Me and you both RT @TheBTCTherapist: Boomers ———&gt; Gold \\n                                     \\nGen X ————&gt; Fiat\\n                                     \\nMillen… A bitcoin school that teaches students about:\\n\\n- The History of Money\\n- Austrian economics\\n- Bitcoin + Lightning Network\\n- Coding\\n- (other practical topics)\\n\\nAnd operates as a non-profit that uses a large percentage of revenue to fund Devs. \\n\\nCreate future devs + fund their work RT @Mj_Rivaldi: Gm my friends. Now SANSPEPE ready on @PepePawnShop \\nhttps://t.co/9YsNrLEMXb grab it before end.\\n\\n#counterparty #Bitcoin #sa… RT @DocumentingBTC: ₿REAKING: #Bitcoin is now worth more than JP Morgan Chase https://t.co/T2PRQRZwM0 RT @TheDailyHodl: Top Analyst Says Major Shift in Behavior Happening for Bitcoin (BTC), Updates Outlook on Litecoin (LTC) https://t.co/v73a… Bitcoin has now recovered all its losses since FTX collapsed\\nhttps://t.co/3xwwwv6m1Y RT @BTCTN: Smart Contract Tokens, #Defi Economy See Strong Growth, Market Capitalization Swells by $78 Billion in 30 Days - Read more here… RT @RollbitRewards: $100 #Giveaway 🎁\\n\\nJust #RT and #follow us! 🎉\\n\\nWinner in 24h 💸 #RollbitRewards \\n\\n#Crypto #Bitcoin #BTC #Etherium #ETH ht… RT @Diditaihuttu: We have been using our new TAP #bitcoin debit card  and it works perfect. Also very happy with the $XTP token price 😊\\n\\nJo… Monster Galaxy (GGM) went up 8.8 percent in the last 1 minutes on https://t.co/rgEAV9gIXu. #GGM  #crypto #bitcoin #cryptocurrency #btc #ethereum #blockchain #eth #trading #altcoin #binance #cryptonews RT @BitcoinMagazine: JUST IN: Block CEO Jack Dorsey funds #Bitcoin education program in El Salvador 🇸🇻 🙌 https://t.co/IDQYap76gZ RT @DocumentingBTC: ₿REAKING: 13% of Canadians 🇨🇦  own #bitcoin reports the Central Bank of Canada https://t.co/wk6IhVGtgM RT @BitcoinMagazine: JUST IN: 🇪🇺 $9 billion European bank N26 will launch #Bitcoin trading for millions of customers in 5 more EU countries… #Ethereum price update: \\n\\n#ETH $1566.64 USD\\n#Bitcoin 0.07405922695978231 #BTC\\n\\nFollow for recent ETH price updates\\n#altcoin, #cryptocurrency, #crypto RT @ShibariumGems: #SHIB developers detailed \"#Shibarium beta\" is about to be launched on top of the #Ethereum blockchain to provide better… RT @CryptoNoob_1: #Bitcoin is about to exit its cyclic accumulation zone👀\\n\\nPrice has always risen rapidly after that 🔥\\n\\n#BTC #Cryptos https… @bitcoin_brown She looks like Beans from Even Stevens💀💀 Candle of day 17/01/2023 closed.\\n\\nOpen: $ 21,176.39\\nHigh: $ 21,448.98\\nLow: $ 20,962.82\\nClose: $ 21,131.89\\n\\nChange: -0.21%\\n\\n#Bitcoin #Candle #BearMarket As the Asian trading session begins, the global #cryptocurrency market cap is 📉down -0.31% in the last 24 hours. However, 52 of the top 100 coins\\' prices are up.\\n\\r-#Bitcoin $21,166 -0.04%,\\n\\r-#Ethereum $1,569.53 -0.52%\\n\\rhttps://t.co/0Lv6EqhZJ9 RT @HKD_exchange: #BTC Retakes $20K, Leading as Broad Crypto Rally Continues\\n\\n🚀 Now at $20,900, #bitcoin has gained more than 20% in the op… RT @DocumentingBTC: ₿REAKING: 13% of Canadians 🇨🇦  own #bitcoin reports the Central Bank of Canada https://t.co/wk6IhVGtgM RT @NuBraveIN: Shitcoin = Anything that isn\\'t #Bitcoin \\n\\n#shitcoins make us 1000x \\n\\nWatch this\\n\\nhttps://t.co/JoT0D0efhX\\n\\n#GFEtoken $GFE #10… RT @b0bcrypto: #Watch2Earn social metrics are following #Bitcoin to the 🌝 this week!\\n\\nAccording to @LunarCrush bullish sentiment is up +69.… RT @saylor: Join us Wednesday, January 18 at 5pm EST for our Q4 2022 briefing on the State of the #Bitcoin Mining Industry. We will share o… RT @Cointelegraph: Looking to get involved with Bitcoin down under? Australia is blessed with several convenient options when it comes to p… RT @BTC_Archive: #Bitcoin 2-week MACD just crossed-over\\n👉 BULLISH🚀\\n\\nThis signalled the end of the bear-market last cycle, and then start of… This is what most people do when they know they have to self custody, but are afraid of making a major mistake.\\nhttps://t.co/b6T88kAy4w will help people by providing them with answers, instead of more questions.\\nFree #bitcoin education for everyone. https://t.co/5JFtcdoWS8 @nypost Those who believe in investing in Bitcoin also believe in intelligence Sometimes we only have to take risk once it pays off Thank you Ms. Natalie Taylor , I made the profit of $68,000 ...join her official telegram\\n👇\\nhttps://t.co/egkflMSMft'"
      ]
     },
     "execution_count": 78,
     "metadata": {},
     "output_type": "execute_result"
    }
   ],
   "source": [
    "all_text_for_tweets = ' '.join(df['text'].tolist())\n",
    "all_text_for_tweets"
   ]
  },
  {
   "cell_type": "code",
   "execution_count": 79,
   "id": "2414e235",
   "metadata": {},
   "outputs": [],
   "source": [
    "# feed the text to ibm api and get sentiment score"
   ]
  },
  {
   "cell_type": "code",
   "execution_count": 80,
   "id": "2d1b7cce",
   "metadata": {},
   "outputs": [
    {
     "name": "stdout",
     "output_type": "stream",
     "text": [
      "Collecting ibm-watson>=6.1.0\n",
      "  Downloading ibm-watson-6.1.0.tar.gz (373 kB)\n",
      "\u001b[2K     \u001b[90m━━━━━━━━━━━━━━━━━━━━━━━━━━━━━━━━━━━━━━━\u001b[0m \u001b[32m373.5/373.5 kB\u001b[0m \u001b[31m6.4 MB/s\u001b[0m eta \u001b[36m0:00:00\u001b[0m00:01\u001b[0m\n",
      "\u001b[?25h  Installing build dependencies ... \u001b[?25ldone\n",
      "\u001b[?25h  Getting requirements to build wheel ... \u001b[?25ldone\n",
      "\u001b[?25h  Preparing metadata (pyproject.toml) ... \u001b[?25ldone\n",
      "\u001b[?25hRequirement already satisfied: python-dateutil>=2.5.3 in /Users/abdullah/opt/anaconda3/envs/id2223/lib/python3.8/site-packages (from ibm-watson>=6.1.0) (2.8.2)\n",
      "Requirement already satisfied: requests<3.0,>=2.0 in /Users/abdullah/opt/anaconda3/envs/id2223/lib/python3.8/site-packages (from ibm-watson>=6.1.0) (2.28.1)\n",
      "Collecting ibm-cloud-sdk-core==3.*,>=3.3.6\n",
      "  Downloading ibm-cloud-sdk-core-3.16.1.tar.gz (50 kB)\n",
      "\u001b[2K     \u001b[90m━━━━━━━━━━━━━━━━━━━━━━━━━━━━━━━━━━━━━━━━\u001b[0m \u001b[32m50.5/50.5 kB\u001b[0m \u001b[31m1.6 MB/s\u001b[0m eta \u001b[36m0:00:00\u001b[0m\n",
      "\u001b[?25h  Installing build dependencies ... \u001b[?25ldone\n",
      "\u001b[?25h  Getting requirements to build wheel ... \u001b[?25ldone\n",
      "\u001b[?25h  Preparing metadata (pyproject.toml) ... \u001b[?25ldone\n",
      "\u001b[?25hCollecting websocket-client==1.1.0\n",
      "  Downloading websocket_client-1.1.0-py2.py3-none-any.whl (68 kB)\n",
      "\u001b[2K     \u001b[90m━━━━━━━━━━━━━━━━━━━━━━━━━━━━━━━━━━━━━━━━\u001b[0m \u001b[32m68.7/68.7 kB\u001b[0m \u001b[31m2.1 MB/s\u001b[0m eta \u001b[36m0:00:00\u001b[0m\n",
      "\u001b[?25hCollecting PyJWT<3.0.0,>=2.4.0\n",
      "  Downloading PyJWT-2.6.0-py3-none-any.whl (20 kB)\n",
      "Requirement already satisfied: urllib3<2.0.0,>=1.26.0 in /Users/abdullah/opt/anaconda3/envs/id2223/lib/python3.8/site-packages (from ibm-cloud-sdk-core==3.*,>=3.3.6->ibm-watson>=6.1.0) (1.26.12)\n",
      "Requirement already satisfied: six>=1.5 in /Users/abdullah/opt/anaconda3/envs/id2223/lib/python3.8/site-packages (from python-dateutil>=2.5.3->ibm-watson>=6.1.0) (1.16.0)\n",
      "Requirement already satisfied: certifi>=2017.4.17 in /Users/abdullah/opt/anaconda3/envs/id2223/lib/python3.8/site-packages (from requests<3.0,>=2.0->ibm-watson>=6.1.0) (2022.9.24)\n",
      "Requirement already satisfied: charset-normalizer<3,>=2 in /Users/abdullah/opt/anaconda3/envs/id2223/lib/python3.8/site-packages (from requests<3.0,>=2.0->ibm-watson>=6.1.0) (2.1.1)\n",
      "Requirement already satisfied: idna<4,>=2.5 in /Users/abdullah/opt/anaconda3/envs/id2223/lib/python3.8/site-packages (from requests<3.0,>=2.0->ibm-watson>=6.1.0) (3.4)\n",
      "Building wheels for collected packages: ibm-watson, ibm-cloud-sdk-core\n",
      "  Building wheel for ibm-watson (pyproject.toml) ... \u001b[?25ldone\n",
      "\u001b[?25h  Created wheel for ibm-watson: filename=ibm_watson-6.1.0-py3-none-any.whl size=370748 sha256=7bd9b0a99f968d9ed564e1359ee332cc391792866e4a2b54f8bebda642221f90\n",
      "  Stored in directory: /Users/abdullah/Library/Caches/pip/wheels/34/b4/cd/829a351c802b7a578115fe7ddaedff62b29eae84e90882c7e2\n",
      "  Building wheel for ibm-cloud-sdk-core (pyproject.toml) ... \u001b[?25ldone\n",
      "\u001b[?25h  Created wheel for ibm-cloud-sdk-core: filename=ibm_cloud_sdk_core-3.16.1-py3-none-any.whl size=83552 sha256=9c1c2c5443dfedd7df2cbd7caa35df79431b93cc4e9e837c21437582854fa465\n",
      "  Stored in directory: /Users/abdullah/Library/Caches/pip/wheels/8a/51/69/22f5cea59892dc3eae30e5df3b1380902f010a5eb6596d7cb1\n",
      "Successfully built ibm-watson ibm-cloud-sdk-core\n",
      "Installing collected packages: websocket-client, PyJWT, ibm-cloud-sdk-core, ibm-watson\n",
      "  Attempting uninstall: websocket-client\n",
      "    Found existing installation: websocket-client 0.58.0\n",
      "    Uninstalling websocket-client-0.58.0:\n",
      "      Successfully uninstalled websocket-client-0.58.0\n",
      "Successfully installed PyJWT-2.6.0 ibm-cloud-sdk-core-3.16.1 ibm-watson-6.1.0 websocket-client-1.1.0\n",
      "Note: you may need to restart the kernel to use updated packages.\n"
     ]
    }
   ],
   "source": [
    "pip install --upgrade \"ibm-watson>=6.1.0\""
   ]
  },
  {
   "cell_type": "code",
   "execution_count": 81,
   "id": "a320918b",
   "metadata": {},
   "outputs": [],
   "source": [
    "import json\n",
    "from ibm_watson import NaturalLanguageUnderstandingV1\n",
    "from ibm_cloud_sdk_core.authenticators import IAMAuthenticator\n",
    "from ibm_watson.natural_language_understanding_v1 import Features, EntitiesOptions, KeywordsOptions"
   ]
  },
  {
   "cell_type": "code",
   "execution_count": 83,
   "id": "62839018",
   "metadata": {},
   "outputs": [],
   "source": [
    "# config['twitter']['ibm_api_key']\n",
    "authenticator = IAMAuthenticator(config['twitter']['ibm_api_key'])\n",
    "natural_language_understanding = NaturalLanguageUnderstandingV1(\n",
    "    version='2022-04-07',\n",
    "    authenticator=authenticator)\n",
    "\n",
    "natural_language_understanding.set_service_url(config['twitter']['ibm_url'])"
   ]
  },
  {
   "cell_type": "code",
   "execution_count": 85,
   "id": "df42807d",
   "metadata": {},
   "outputs": [
    {
     "name": "stdout",
     "output_type": "stream",
     "text": [
      "{\n",
      "  \"usage\": {\n",
      "    \"text_units\": 2,\n",
      "    \"text_characters\": 15015,\n",
      "    \"features\": 2\n",
      "  },\n",
      "  \"language\": \"en\",\n",
      "  \"keywords\": [\n",
      "    {\n",
      "      \"text\": \"RT @HKD_exchange\",\n",
      "      \"sentiment\": {\n",
      "        \"score\": 0,\n",
      "        \"label\": \"neutral\"\n",
      "      },\n",
      "      \"relevance\": 0.832045,\n",
      "      \"emotion\": {\n",
      "        \"sadness\": 0.146121,\n",
      "        \"joy\": 0.139064,\n",
      "        \"fear\": 0.035868,\n",
      "        \"disgust\": 0.087992,\n",
      "        \"anger\": 0.091872\n",
      "      },\n",
      "      \"count\": 2\n",
      "    },\n",
      "    {\n",
      "      \"text\": \"RT @adaswapapp\",\n",
      "      \"sentiment\": {\n",
      "        \"score\": 0,\n",
      "        \"label\": \"neutral\"\n",
      "      },\n",
      "      \"relevance\": 0.684192,\n",
      "      \"emotion\": {\n",
      "        \"sadness\": 0.081174,\n",
      "        \"joy\": 0.77509,\n",
      "        \"fear\": 0.045336,\n",
      "        \"disgust\": 0.144504,\n",
      "        \"anger\": 0.030906\n",
      "      },\n",
      "      \"count\": 1\n",
      "    }\n",
      "  ],\n",
      "  \"entities\": [\n",
      "    {\n",
      "      \"type\": \"Hashtag\",\n",
      "      \"text\": \"#Bitcoin\",\n",
      "      \"sentiment\": {\n",
      "        \"score\": -0.450832,\n",
      "        \"mixed\": \"1\",\n",
      "        \"label\": \"negative\"\n",
      "      },\n",
      "      \"relevance\": 0.951034,\n",
      "      \"emotion\": {\n",
      "        \"sadness\": 0.165868,\n",
      "        \"joy\": 0.378336,\n",
      "        \"fear\": 0.05127,\n",
      "        \"disgust\": 0.063498,\n",
      "        \"anger\": 0.06879\n",
      "      },\n",
      "      \"count\": 29,\n",
      "      \"confidence\": 1\n",
      "    },\n",
      "    {\n",
      "      \"type\": \"Hashtag\",\n",
      "      \"text\": \"#bitcoin\",\n",
      "      \"sentiment\": {\n",
      "        \"score\": -0.450832,\n",
      "        \"mixed\": \"1\",\n",
      "        \"label\": \"negative\"\n",
      "      },\n",
      "      \"relevance\": 0.719639,\n",
      "      \"emotion\": {\n",
      "        \"sadness\": 0.165868,\n",
      "        \"joy\": 0.378336,\n",
      "        \"fear\": 0.05127,\n",
      "        \"disgust\": 0.063498,\n",
      "        \"anger\": 0.06879\n",
      "      },\n",
      "      \"count\": 18,\n",
      "      \"confidence\": 1\n",
      "    }\n",
      "  ]\n",
      "}\n"
     ]
    }
   ],
   "source": [
    "response = natural_language_understanding.analyze(\n",
    "    text=all_text_for_tweets,\n",
    "    features=Features(\n",
    "        entities=EntitiesOptions(emotion=True, sentiment=True, limit=2),\n",
    "        keywords=KeywordsOptions(emotion=True, sentiment=True,\n",
    "                                 limit=2))).get_result()\n",
    "\n",
    "print(json.dumps(response, indent=2))"
   ]
  },
  {
   "cell_type": "code",
   "execution_count": null,
   "id": "cc29129c",
   "metadata": {},
   "outputs": [],
   "source": []
  }
 ],
 "metadata": {
  "kernelspec": {
   "display_name": "Python 3 (ipykernel)",
   "language": "python",
   "name": "python3"
  },
  "language_info": {
   "codemirror_mode": {
    "name": "ipython",
    "version": 3
   },
   "file_extension": ".py",
   "mimetype": "text/x-python",
   "name": "python",
   "nbconvert_exporter": "python",
   "pygments_lexer": "ipython3",
   "version": "3.8.15"
  }
 },
 "nbformat": 4,
 "nbformat_minor": 5
}
